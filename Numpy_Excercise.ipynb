{
 "cells": [
  {
   "cell_type": "code",
   "execution_count": 2,
   "metadata": {},
   "outputs": [
    {
     "data": {
      "text/plain": [
       "array([ 50,  51,  52,  53,  54,  55,  56,  57,  58,  59,  60,  61,  62,\n",
       "        63,  64,  65,  66,  67,  68,  69,  70,  71,  72,  73,  74,  75,\n",
       "        76,  77,  78,  79,  80,  81,  82,  83,  84,  85,  86,  87,  88,\n",
       "        89,  90,  91,  92,  93,  94,  95,  96,  97,  98,  99, 100])"
      ]
     },
     "execution_count": 2,
     "metadata": {},
     "output_type": "execute_result"
    }
   ],
   "source": [
    "import numpy as np\n",
    "\n",
    "arr=np.arange(50,101)\n",
    "arr"
   ]
  },
  {
   "cell_type": "code",
   "execution_count": 17,
   "metadata": {},
   "outputs": [
    {
     "name": "stdout",
     "output_type": "stream",
     "text": [
      "[[1. 1. 1.]\n",
      " [1. 1. 1.]\n",
      " [1. 1. 1.]]\n"
     ]
    },
    {
     "data": {
      "text/plain": [
       "array([[0., 0., 0., 0., 0.],\n",
       "       [0., 1., 1., 1., 0.],\n",
       "       [0., 1., 1., 1., 0.],\n",
       "       [0., 1., 1., 1., 0.],\n",
       "       [0., 0., 0., 0., 0.]])"
      ]
     },
     "execution_count": 17,
     "metadata": {},
     "output_type": "execute_result"
    }
   ],
   "source": [
    "arr1=np.ones((3,3))\n",
    "print(arr1)\n",
    "arr1_pad=np.pad(arr1,pad_width=1,mode='constant',constant_values=0)\n",
    "arr1_pad"
   ]
  },
  {
   "cell_type": "code",
   "execution_count": 28,
   "metadata": {},
   "outputs": [
    {
     "data": {
      "text/plain": [
       "array([[8, 4, 6],\n",
       "       [1, 2, 3]])"
      ]
     },
     "execution_count": 28,
     "metadata": {},
     "output_type": "execute_result"
    }
   ],
   "source": [
    "l1=[1,2,3,4,5,6,7,8]\n",
    "l1\n",
    "tup1=(8,4,6,1,2,3)\n",
    "arr2=np.array(tup1)\n",
    "\n",
    "arr2 =arr2.reshape(2,3)\n",
    "arr2"
   ]
  },
  {
   "cell_type": "raw",
   "metadata": {},
   "source": []
  },
  {
   "cell_type": "code",
   "execution_count": 36,
   "metadata": {},
   "outputs": [
    {
     "data": {
      "text/plain": [
       "array([-17.77777778, -11.11111111,   7.33888889,   1.11111111,\n",
       "        37.72777778])"
      ]
     },
     "execution_count": 36,
     "metadata": {},
     "output_type": "execute_result"
    }
   ],
   "source": [
    "frnht_arr=np.array([0.,   12.,   45.21, 34.,   99.91])\n",
    "frnht_arr\n",
    "(frnht_arr-32)*5/9"
   ]
  },
  {
   "cell_type": "code",
   "execution_count": 54,
   "metadata": {},
   "outputs": [
    {
     "name": "stdout",
     "output_type": "stream",
     "text": [
      "Size of the array: 51\n",
      "Length of one array element in bytes 4\n",
      "Total bytes consumed by the elements of the array:  204\n"
     ]
    }
   ],
   "source": [
    "\n",
    "print(\"Size of the array:\",arr.size)\n",
    "print(\"Length of one array element in bytes\",arr.itemsize)\n",
    "print(\"Total bytes consumed by the elements of the array: \",arr.itemsize*arr.size)\n",
    "\n"
   ]
  },
  {
   "cell_type": "code",
   "execution_count": 56,
   "metadata": {},
   "outputs": [
    {
     "data": {
      "text/plain": [
       "array([[10, 10, 20],\n",
       "       [30, 10, 30],\n",
       "       [20, 40, 50]])"
      ]
     },
     "execution_count": 56,
     "metadata": {},
     "output_type": "execute_result"
    }
   ],
   "source": [
    "#Change the dimension of an array\n",
    "arr3=np.array([10,10,20,30,10,30,20,40,50])\n",
    "arr3.reshape(3,3)\n",
    "\n"
   ]
  },
  {
   "cell_type": "code",
   "execution_count": 94,
   "metadata": {},
   "outputs": [
    {
     "name": "stdout",
     "output_type": "stream",
     "text": [
      "Original array with duplicate elements\n",
      "[10 20 30 40 50]\n",
      "new array with unique elements\n",
      "[10 20 30 40 50]\n",
      "Two Dimension array \n",
      "[[1 1]\n",
      " [2 3]]\n",
      "new array with unique elements\n",
      "[1 2 3]\n"
     ]
    }
   ],
   "source": [
    "#Get the unique elements of an array\n",
    "print(\"Original array with duplicate elements\")\n",
    "print(arr3)\n",
    "arr3=np.unique(arr3)\n",
    "print(\"new array with unique elements\")\n",
    "print(arr3)\n",
    "arr_2d_1=np.array([[1,1],[2,3]])\n",
    "print(\"Two Dimension array \")\n",
    "print(arr_2d_1)\n",
    "print(\"new array with unique elements\")\n",
    "arr_2d_1=np.unique(arr_2d_1)\n",
    "print(arr_2d_1)"
   ]
  },
  {
   "cell_type": "code",
   "execution_count": 61,
   "metadata": {},
   "outputs": [
    {
     "data": {
      "text/plain": [
       "array([2.5       , 2.63793103, 2.77586207, 2.9137931 , 3.05172414,\n",
       "       3.18965517, 3.32758621, 3.46551724, 3.60344828, 3.74137931,\n",
       "       3.87931034, 4.01724138, 4.15517241, 4.29310345, 4.43103448,\n",
       "       4.56896552, 4.70689655, 4.84482759, 4.98275862, 5.12068966,\n",
       "       5.25862069, 5.39655172, 5.53448276, 5.67241379, 5.81034483,\n",
       "       5.94827586, 6.0862069 , 6.22413793, 6.36206897, 6.5       ])"
      ]
     },
     "execution_count": 61,
     "metadata": {},
     "output_type": "execute_result"
    }
   ],
   "source": [
    "#Create a 1-D array of 30 evenly spaced elements between 2.5. and 6.5, inclusive¶\n",
    "np.linspace(2.5,6.5,30)"
   ]
  },
  {
   "cell_type": "code",
   "execution_count": 67,
   "metadata": {},
   "outputs": [
    {
     "name": "stdout",
     "output_type": "stream",
     "text": [
      "[100 200 300 400]\n",
      "[1000 3000    5  800]\n"
     ]
    },
    {
     "data": {
      "text/plain": [
       "array([[ 100, 1000],\n",
       "       [ 200, 3000],\n",
       "       [ 300,    5],\n",
       "       [ 400,  800]])"
      ]
     },
     "execution_count": 67,
     "metadata": {},
     "output_type": "execute_result"
    }
   ],
   "source": [
    "#Convert 1-D arrays as columns into a 2-D array\n",
    "arr_1=np.array([100,200,300,400])\n",
    "arr_2=np.array([1000,3000,5,800])\n",
    "print(arr_1)\n",
    "print(arr_2)\n",
    "arr_2d=np.stack((arr_1,arr_2),axis=1)\n",
    "arr_2d\n",
    "#arr_2d=arr_2d."
   ]
  },
  {
   "cell_type": "code",
   "execution_count": 96,
   "metadata": {},
   "outputs": [
    {
     "name": "stdout",
     "output_type": "stream",
     "text": [
      "Original 5*5 Metrics\n",
      "[[0. 0. 0. 0. 0.]\n",
      " [0. 0. 0. 0. 0.]\n",
      " [0. 0. 0. 0. 0.]\n",
      " [0. 0. 0. 0. 0.]\n",
      " [0. 0. 0. 0. 0.]]\n",
      "row values ranging from 0 to 4\n",
      "[[0. 1. 2. 3. 4.]\n",
      " [0. 1. 2. 3. 4.]\n",
      " [0. 1. 2. 3. 4.]\n",
      " [0. 1. 2. 3. 4.]\n",
      " [0. 1. 2. 3. 4.]]\n"
     ]
    }
   ],
   "source": [
    "#Create a 5x5 matrix with row values ranging from 0 to 4\n",
    "arr_5=np.zeros((5,5))\n",
    "print(\"Original 5*5 Metrics\")\n",
    "print(arr_5)\n",
    "print(\"row values ranging from 0 to 4\")\n",
    "arr_5+=np.arange(5)\n",
    "print(arr_5)\n"
   ]
  },
  {
   "cell_type": "code",
   "execution_count": 86,
   "metadata": {},
   "outputs": [
    {
     "name": "stdout",
     "output_type": "stream",
     "text": [
      "[3, 5, 6, 9, 10, 12, 15, 18, 20, 21, 24, 25, 27, 30, 33, 35, 36, 39, 40, 42, 45, 48, 50, 51, 54, 55, 57, 60, 63, 65, 66, 69, 70, 72, 75, 78, 80, 81, 84, 85, 87, 90, 93, 95, 96, 99]\n",
      "2318\n"
     ]
    }
   ],
   "source": [
    "#Sum of all the multiples of 3 or 5 below 100\n",
    "arr5=np.arange(1,100)\n",
    "list_arr=[]\n",
    "sumarr=0\n",
    "for i in arr5:\n",
    "    if(i%3==0 or i%5==0):\n",
    "        #print(i)\n",
    "        list_arr.append(i)\n",
    "        sumarr=sumarr+i\n",
    "print(list_arr)   \n",
    "print(sumarr)\n",
    "\n",
    "            \n",
    "    \n"
   ]
  },
  {
   "cell_type": "code",
   "execution_count": 104,
   "metadata": {},
   "outputs": [
    {
     "name": "stdout",
     "output_type": "stream",
     "text": [
      "[99 88 77]\n",
      "[[ 1  2  3]\n",
      " [ 8  9 10]]\n",
      "99:1\n",
      "88:2\n",
      "77:3\n",
      "99:8\n",
      "88:9\n",
      "77:10\n"
     ]
    }
   ],
   "source": [
    "#Combine a one and a two dimensional array together and display their elements\n",
    "#np.nditor()\n",
    "arr_1d=np.array([99,88,77])\n",
    "print(arr_1d)\n",
    "arr_2d=np.array([[1,2,3],[8,9,10]])\n",
    "print(arr_2d)\n",
    "#arr_con=np.concatenate((arr_1d,arr_2d),axis=0)\n",
    "\n",
    "for a,b in np.nditer([arr_1d,arr_2d]):\n",
    "    print(\"%d:%d\"%(a,b))\n",
    "    \n"
   ]
  },
  {
   "cell_type": "code",
   "execution_count": null,
   "metadata": {},
   "outputs": [],
   "source": []
  },
  {
   "cell_type": "code",
   "execution_count": null,
   "metadata": {},
   "outputs": [],
   "source": []
  },
  {
   "cell_type": "code",
   "execution_count": 115,
   "metadata": {},
   "outputs": [
    {
     "name": "stdout",
     "output_type": "stream",
     "text": [
      "Original Array\n",
      "[[0.1    0.2125 0.325 ]\n",
      " [0.4375 0.55   0.6625]\n",
      " [0.775  0.8875 1.    ]]\n",
      "After replaced with .5 which are greater than .5\n"
     ]
    },
    {
     "data": {
      "text/plain": [
       "array([[0.1   , 0.2125, 0.325 ],\n",
       "       [0.4375, 0.5   , 0.5   ],\n",
       "       [0.5   , 0.5   , 0.5   ]])"
      ]
     },
     "execution_count": 115,
     "metadata": {},
     "output_type": "execute_result"
    }
   ],
   "source": [
    "#Write a NumPy program to replace all elements of NumPy array that are greater than specified array\n",
    "arr6=np.linspace(0.1,1.0,9)\n",
    "arr6=arr6.reshape((3,3))\n",
    "print(\"Original Array\")\n",
    "print(arr6)\n",
    "#arr6[arr6>=0.5]=0.5\n",
    "print(\"After replaced with .5 which are greater than .5\")\n",
    "#print(arr6)\n",
    "np.where(arr6>0.5,0.5,arr6)\n"
   ]
  },
  {
   "cell_type": "code",
   "execution_count": 131,
   "metadata": {},
   "outputs": [
    {
     "name": "stdout",
     "output_type": "stream",
     "text": [
      "Empty Array\n",
      "[]\n",
      "[[90 80 70]]\n"
     ]
    }
   ],
   "source": [
    "#Add a new row to an empty numpy array\n",
    "emp_arr=np.empty((0,3),int)\n",
    "print(\"Empty Array\")\n",
    "print(emp_arr)\n",
    "emp_err=np.append(emp_arr,np.array([[10,20,20]]),axis=0)\n",
    "#print(add_err)\n",
    "emp_err=np.append(emp_arr,np.array([[90,80,70]]),axis=0)\n",
    "print(add_arr)\n"
   ]
  },
  {
   "cell_type": "code",
   "execution_count": 3,
   "metadata": {},
   "outputs": [
    {
     "name": "stdout",
     "output_type": "stream",
     "text": [
      "Original Array\n",
      "[1 2 3]\n",
      "[4 5 6]\n"
     ]
    }
   ],
   "source": [
    "#Write a NumPy program to join a sequence of arrays along a new axis\n",
    "x=np.array([1,2,3])\n",
    "y=np.array([4,5,6])\n",
    "print(\"Original Array\")\n",
    "print(x)\n",
    "print(y)"
   ]
  },
  {
   "cell_type": "code",
   "execution_count": 5,
   "metadata": {},
   "outputs": [
    {
     "name": "stdout",
     "output_type": "stream",
     "text": [
      "[[1 2 3]\n",
      " [4 5 6]]\n"
     ]
    }
   ],
   "source": [
    "print(\"New Array along a new axis\")\n",
    "print(np.vstack((x,y)))"
   ]
  },
  {
   "cell_type": "code",
   "execution_count": 9,
   "metadata": {},
   "outputs": [
    {
     "name": "stdout",
     "output_type": "stream",
     "text": [
      "Original Array\n",
      "[[1]\n",
      " [2]\n",
      " [3]]\n",
      "[[4]\n",
      " [5]\n",
      " [6]]\n",
      "New Array along a new axis\n",
      "[[1]\n",
      " [2]\n",
      " [3]\n",
      " [4]\n",
      " [5]\n",
      " [6]]\n"
     ]
    }
   ],
   "source": [
    "a=np.array([[1],[2],[3]])\n",
    "b=np.array([[4],[5],[6]])\n",
    "print(\"Original Array\")\n",
    "print(a)\n",
    "print(b)\n",
    "print(\"New Array along a new axis\")\n",
    "print(np.vstack((a,b)))\n"
   ]
  }
 ],
 "metadata": {
  "kernelspec": {
   "display_name": "Python 3",
   "language": "python",
   "name": "python3"
  },
  "language_info": {
   "codemirror_mode": {
    "name": "ipython",
    "version": 3
   },
   "file_extension": ".py",
   "mimetype": "text/x-python",
   "name": "python",
   "nbconvert_exporter": "python",
   "pygments_lexer": "ipython3",
   "version": "3.6.4"
  }
 },
 "nbformat": 4,
 "nbformat_minor": 2
}
