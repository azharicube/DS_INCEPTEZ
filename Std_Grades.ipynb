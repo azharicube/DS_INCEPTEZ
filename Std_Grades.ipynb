{
 "cells": [
  {
   "cell_type": "markdown",
   "metadata": {},
   "source": [
    "#Students Grade Program\n",
    "#A -> Grade if the score greater or equal 90 B -> The mark is between 70(inclusive) and 90(not inclusive) C -> if the score is otherwise input -> 1) 90 2) 75 3) 65 Output -> 1) A 2) B 3) C"
   ]
  },
  {
   "cell_type": "code",
   "execution_count": 9,
   "metadata": {},
   "outputs": [
    {
     "name": "stdout",
     "output_type": "stream",
     "text": [
      "Azhar\n",
      "91\n"
     ]
    }
   ],
   "source": [
    "std_name=input()\n",
    "std_Mark=int(input())\n"
   ]
  },
  {
   "cell_type": "code",
   "execution_count": 16,
   "metadata": {},
   "outputs": [
    {
     "name": "stdout",
     "output_type": "stream",
     "text": [
      "Azharudeen \n",
      "66\n",
      "Azharudeen  grade is C\n"
     ]
    }
   ],
   "source": [
    "std_name=input()\n",
    "std_Mark=int(input())\n",
    "if(std_Mark>=90):\n",
    "    print(\"{0} grade is \".format(std_name)+\"A\")\n",
    "elif(std_Mark<90 and std_Mark>=75):\n",
    "    print(\"{0} grade is \".format(std_name)+\"B\")\n",
    "else:\n",
    "    print(\"{0} grade is \".format(std_name)+\"C\")"
   ]
  }
 ],
 "metadata": {
  "kernelspec": {
   "display_name": "Python 3",
   "language": "python",
   "name": "python3"
  },
  "language_info": {
   "codemirror_mode": {
    "name": "ipython",
    "version": 3
   },
   "file_extension": ".py",
   "mimetype": "text/x-python",
   "name": "python",
   "nbconvert_exporter": "python",
   "pygments_lexer": "ipython3",
   "version": "3.6.4"
  }
 },
 "nbformat": 4,
 "nbformat_minor": 2
}
